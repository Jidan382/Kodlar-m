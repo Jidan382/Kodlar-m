{
 "cells": [
  {
   "cell_type": "code",
   "execution_count": null,
   "metadata": {},
   "outputs": [],
   "source": [
    "a=int(input(\"sayi1: \"))\n",
    "b=int(input(\"sayi2: \"))\n",
    "c=int(input(\"sayi3: \"))\n",
    "disc=(b**2)-(4*a*c)\n",
    "kok1 = ((-b+disc**0.5)/2*a)\n",
    "kok2 = ((-b-disc**0.5)/2*a)\n",
    "print(\"cevap1: \",kok1)\n",
    "print(\"cevap2: \",kok2)"
   ]
  }
 ],
 "metadata": {
  "kernelspec": {
   "display_name": "Python 3",
   "language": "python",
   "name": "python3"
  },
  "language_info": {
   "codemirror_mode": {
    "name": "ipython",
    "version": 3
   },
   "file_extension": ".py",
   "mimetype": "text/x-python",
   "name": "python",
   "nbconvert_exporter": "python",
   "pygments_lexer": "ipython3",
   "version": "3.6.7"
  }
 },
 "nbformat": 4,
 "nbformat_minor": 2
}
