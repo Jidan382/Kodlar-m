{
 "cells": [
  {
   "cell_type": "code",
   "execution_count": null,
   "metadata": {},
   "outputs": [],
   "source": [
    "x=float(input(\"please choose one of this three worth:1,2,3\"))\n",
    "if x>3: \n",
    "    print(\"please restart the program\",'\\n')\n",
    "if x==1:\n",
    "        print(\"please calculate hypotenuse triangle\")    \n",
    "        a = int(input(\"A:\"))\n",
    "        b = int(input(\"B:\"))\n",
    "        c = (a**2+b**2)\n",
    "        c = c**0.5\n",
    "        \n",
    "        print(\"hypotenuse: \\n\",c)\n",
    "        \n",
    "elif x==2:\n",
    "        a = int(input(\"please enter the worth: \"))\n",
    "        i = 0\n",
    "        while i < a:\n",
    "            i += 1\n",
    "            print(i)\n",
    "            \n",
    "elif x==3:\n",
    "        worth1 = int(input(\"Enter a 1st worth: \"))\n",
    "        worth2 = int(input(\"Enter a 2nd worth: \"))\n",
    "        worth3 = int(input(\"Enter a 3rd worth: \"))\n",
    "        worth4 = int(input(\"Enter a 4th worth: \"))\n",
    "        worth5 = int(input(\"Enter a 5th worth: \"))\n",
    "        worth6 = int(input(\"Enter a 6th worth: \"))\n",
    "        \n",
    "        print(' Your worth set ,respectively :' ,(worth1,worth2,worth3,worth4,worth5,worth6))\n",
    "        result_of_arithmetic = (worth1+worth2+worth3+worth4+worth5+worth6)/6\n",
    "        print(' Your arithmetic mean is : ' , result_of_arithmetic)"
   ]
  }
 ],
 "metadata": {
  "kernelspec": {
   "display_name": "Python 3",
   "language": "python",
   "name": "python3"
  },
  "language_info": {
   "codemirror_mode": {
    "name": "ipython",
    "version": 3
   },
   "file_extension": ".py",
   "mimetype": "text/x-python",
   "name": "python",
   "nbconvert_exporter": "python",
   "pygments_lexer": "ipython3",
   "version": "3.6.7"
  }
 },
 "nbformat": 4,
 "nbformat_minor": 2
}
